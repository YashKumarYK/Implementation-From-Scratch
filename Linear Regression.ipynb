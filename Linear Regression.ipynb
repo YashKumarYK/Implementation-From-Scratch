{
 "cells": [
  {
   "cell_type": "markdown",
   "id": "3224aad5",
   "metadata": {},
   "source": [
    "# Linear Regression : From the scratch\n",
    "### In this notebook, the linear regression has been implemented without using the `scikit-learn` library"
   ]
  },
  {
   "cell_type": "markdown",
   "id": "fc63e5dd",
   "metadata": {},
   "source": [
    "#### important things to remember\n",
    "1. predicted values \n",
    "2. weights and bias\n",
    "3. mean squared error\n",
    "4. gradient descent"
   ]
  },
  {
   "cell_type": "code",
   "execution_count": 1,
   "id": "fe5ce990",
   "metadata": {},
   "outputs": [],
   "source": [
    "import pandas as pd\n",
    "import matplotlib.pyplot as plt\n",
    "%matplotlib inline"
   ]
  },
  {
   "cell_type": "code",
   "execution_count": 2,
   "id": "6a5be81f",
   "metadata": {},
   "outputs": [],
   "source": [
    "#lets import the dataset\n",
    "data_df = pd.read_csv(\"Auto insurance dataset.csv\")"
   ]
  },
  {
   "cell_type": "code",
   "execution_count": 3,
   "id": "0643c680",
   "metadata": {},
   "outputs": [
    {
     "data": {
      "text/html": [
       "<div>\n",
       "<style scoped>\n",
       "    .dataframe tbody tr th:only-of-type {\n",
       "        vertical-align: middle;\n",
       "    }\n",
       "\n",
       "    .dataframe tbody tr th {\n",
       "        vertical-align: top;\n",
       "    }\n",
       "\n",
       "    .dataframe thead th {\n",
       "        text-align: right;\n",
       "    }\n",
       "</style>\n",
       "<table border=\"1\" class=\"dataframe\">\n",
       "  <thead>\n",
       "    <tr style=\"text-align: right;\">\n",
       "      <th></th>\n",
       "      <th>X</th>\n",
       "      <th>Y</th>\n",
       "    </tr>\n",
       "  </thead>\n",
       "  <tbody>\n",
       "    <tr>\n",
       "      <th>0</th>\n",
       "      <td>108</td>\n",
       "      <td>392.5</td>\n",
       "    </tr>\n",
       "    <tr>\n",
       "      <th>1</th>\n",
       "      <td>19</td>\n",
       "      <td>46.2</td>\n",
       "    </tr>\n",
       "    <tr>\n",
       "      <th>2</th>\n",
       "      <td>13</td>\n",
       "      <td>15.7</td>\n",
       "    </tr>\n",
       "    <tr>\n",
       "      <th>3</th>\n",
       "      <td>124</td>\n",
       "      <td>422.2</td>\n",
       "    </tr>\n",
       "    <tr>\n",
       "      <th>4</th>\n",
       "      <td>40</td>\n",
       "      <td>119.4</td>\n",
       "    </tr>\n",
       "  </tbody>\n",
       "</table>\n",
       "</div>"
      ],
      "text/plain": [
       "     X      Y\n",
       "0  108  392.5\n",
       "1   19   46.2\n",
       "2   13   15.7\n",
       "3  124  422.2\n",
       "4   40  119.4"
      ]
     },
     "execution_count": 3,
     "metadata": {},
     "output_type": "execute_result"
    }
   ],
   "source": [
    "data_df.head()"
   ]
  },
  {
   "cell_type": "code",
   "execution_count": 4,
   "id": "785abd59",
   "metadata": {},
   "outputs": [
    {
     "data": {
      "image/png": "[encoded data removed]",
      "text/plain": [
       "<Figure size 432x288 with 1 Axes>"
      ]
     },
     "metadata": {
      "needs_background": "light"
     },
     "output_type": "display_data"
    }
   ],
   "source": [
    "#lets check the dependies of the variables\n",
    "plt.scatter(data_df.X, data_df.Y)\n",
    "plt.xlabel(\"X\")\n",
    "plt.ylabel(\"Y\")\n",
    "plt.show()"
   ]
  },
  {
   "cell_type": "markdown",
   "id": "6ed6e209",
   "metadata": {},
   "source": [
    "this is basically following a linear relation. we can fit the dataset by a line which is usually done by Linear regression using Scikit learn . But in this notebook it is done without the sklearn"
   ]
  },
  {
   "cell_type": "code",
   "execution_count": 5,
   "id": "98102c6d",
   "metadata": {},
   "outputs": [],
   "source": [
    "from random import seed\n",
    "from random import randrange"
   ]
  },
  {
   "cell_type": "code",
   "execution_count": 10,
   "id": "310a9175",
   "metadata": {},
   "outputs": [],
   "source": [
    "#lets make a function to split the data into train and test set\n",
    "def split(data, test_split_ratio):\n",
    "    test_df = pd.DataFrame()\n",
    "    data_size= data.shape[0]\n",
    "    test_size= test_split_ratio *data_size\n",
    "    train_df = data.copy()\n",
    "    while (len(test_df)<(test_size)):\n",
    "        indexes = randrange(data_size)\n",
    "        \n",
    "        test_df = test_df.append(data.iloc[indexes])\n",
    "        \n",
    "        train_df = train_df.drop(train_df.index[[indexes]])        \n",
    "    return train_df, test_df"
   ]
  },
  {
   "cell_type": "code",
   "execution_count": 11,
   "id": "91d2a9f0",
   "metadata": {},
   "outputs": [],
   "source": [
    "train_df, test_df = split(data_df, 0.2)"
   ]
  },
  {
   "cell_type": "code",
   "execution_count": 12,
   "id": "46e124d5",
   "metadata": {},
   "outputs": [
    {
     "data": {
      "text/plain": [
       "(50, 2)"
      ]
     },
     "execution_count": 12,
     "metadata": {},
     "output_type": "execute_result"
    }
   ],
   "source": [
    "train_df.shape"
   ]
  },
  {
   "cell_type": "code",
   "execution_count": 13,
   "id": "462666a7",
   "metadata": {},
   "outputs": [
    {
     "data": {
      "text/plain": [
       "(13, 2)"
      ]
     },
     "execution_count": 13,
     "metadata": {},
     "output_type": "execute_result"
    }
   ],
   "source": [
    "test_df.shape"
   ]
  },
  {
   "cell_type": "code",
   "execution_count": 156,
   "id": "da0e8321",
   "metadata": {},
   "outputs": [],
   "source": [
    "# defining the gradient descent function\n",
    "def gradient_descent(w,b,data, learning_rate):\n",
    "    dw= 0\n",
    "    db=0\n",
    "    for i in range(len(data)):\n",
    "        x= data.iloc[i].X\n",
    "        y= data.iloc[i].Y\n",
    "        dw += -(2/len(data))*x*(y-(w*x+b))\n",
    "        db += -(2/len(data))*(y-(w*x+b))\n",
    "    w = w - dw * learning_rate\n",
    "    b= b - db* learning_rate\n",
    "    return w,b\n",
    "\n",
    "#prediction\n",
    "def predict(w,b,data):\n",
    "    prediction=[]\n",
    "    for i in range(len(data)):\n",
    "        x= data.iloc[i].X\n",
    "        prediction.append(w*x+b)\n",
    "    return prediction\n",
    "\n",
    "#rmse function\n",
    "def rmse(w, b, data):\n",
    "    error=0\n",
    "    for i in range(len(data)):\n",
    "        x= data.iloc[i].X\n",
    "        y= data.iloc[i].Y\n",
    "        error += (y- (w*x +b))**2\n",
    "    return sqrt(error/float(len(data)))"
   ]
  },
  {
   "cell_type": "code",
   "execution_count": 165,
   "id": "ab216f83",
   "metadata": {},
   "outputs": [
    {
     "name": "stdout",
     "output_type": "stream",
     "text": [
      "weight: 3.704036935570256\n",
      "bias:  0.2683936731429021\n"
     ]
    }
   ],
   "source": [
    "#for trainset\n",
    "max_iter =500\n",
    "lr= 0.00001\n",
    "w=0\n",
    "b=0\n",
    "for i in range(1000):\n",
    "    w,b=gradient_descent(w,b,train_df, lr)\n",
    "print(\"weight:\", w)\n",
    "print(\"bias: \", b)"
   ]
  },
  {
   "cell_type": "code",
   "execution_count": 166,
   "id": "de0a8a21",
   "metadata": {},
   "outputs": [
    {
     "data": {
      "text/plain": [
       "36.78765898695427"
      ]
     },
     "execution_count": 166,
     "metadata": {},
     "output_type": "execute_result"
    }
   ],
   "source": [
    "rmse(w, b, train_df)"
   ]
  },
  {
   "cell_type": "code",
   "execution_count": 167,
   "id": "f3a4b154",
   "metadata": {},
   "outputs": [
    {
     "data": {
      "text/plain": [
       "33.618293115407155"
      ]
     },
     "execution_count": 167,
     "metadata": {},
     "output_type": "execute_result"
    }
   ],
   "source": [
    "rmse(w, b, test_df)"
   ]
  },
  {
   "cell_type": "code",
   "execution_count": 170,
   "id": "3c431311",
   "metadata": {},
   "outputs": [
    {
     "data": {
      "image/png": "[encoded data removed]",
      "text/plain": [
       "<Figure size 432x288 with 1 Axes>"
      ]
     },
     "metadata": {
      "needs_background": "light"
     },
     "output_type": "display_data"
    }
   ],
   "source": [
    "plt.scatter(train_df.X, train_df.Y, color= 'Black');\n",
    "plt.plot(train_df.X, predict(w, b, train_df), color = \"blue\");"
   ]
  },
  {
   "cell_type": "markdown",
   "id": "9d165541",
   "metadata": {},
   "source": [
    "This is the linear regression without using numpy library and sklearn"
   ]
  }
 ],
 "metadata": {
  "kernelspec": {
   "display_name": "Python 3",
   "language": "python",
   "name": "python3"
  },
  "language_info": {
   "codemirror_mode": {
    "name": "ipython",
    "version": 3
   },
   "file_extension": ".py",
   "mimetype": "text/x-python",
   "name": "python",
   "nbconvert_exporter": "python",
   "pygments_lexer": "ipython3",
   "version": "3.8.8"
  }
 },
 "nbformat": 4,
 "nbformat_minor": 5
}
